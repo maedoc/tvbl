{
 "cells": [
  {
   "cell_type": "code",
   "execution_count": 1,
   "metadata": {},
   "outputs": [
    {
     "name": "stdout",
     "output_type": "stream",
     "text": [
      "The Zen of Python, by Tim Peters\n",
      "\n",
      "Beautiful is better than ugly.\n",
      "Explicit is better than implicit.\n",
      "Simple is better than complex.\n",
      "Complex is better than complicated.\n",
      "Flat is better than nested.\n",
      "Sparse is better than dense.\n",
      "Readability counts.\n",
      "Special cases aren't special enough to break the rules.\n",
      "Although practicality beats purity.\n",
      "Errors should never pass silently.\n",
      "Unless explicitly silenced.\n",
      "In the face of ambiguity, refuse the temptation to guess.\n",
      "There should be one-- and preferably only one --obvious way to do it.\n",
      "Although that way may not be obvious at first unless you're Dutch.\n",
      "Now is better than never.\n",
      "Although never is often better than *right* now.\n",
      "If the implementation is hard to explain, it's a bad idea.\n",
      "If the implementation is easy to explain, it may be a good idea.\n",
      "Namespaces are one honking great idea -- let's do more of those!\n"
     ]
    }
   ],
   "source": [
    "import this"
   ]
  },
  {
   "cell_type": "code",
   "execution_count": 2,
   "metadata": {},
   "outputs": [
    {
     "data": {
      "application/vnd.jupyter.widget-view+json": {
       "model_id": "6f1428e8d764462397ffed749ed50211",
       "version_major": 2,
       "version_minor": 0
      },
      "text/plain": [
       "Canvas(height=1200, layout=Layout(width='10%'), width=1600)"
      ]
     },
     "execution_count": 2,
     "metadata": {},
     "output_type": "execute_result"
    }
   ],
   "source": [
    "from math import pi\n",
    "\n",
    "from ipycanvas import Canvas\n",
    "\n",
    "canvas = Canvas(width=1600, height=1200, layout=dict(width=\"10%\"))\n",
    "\n",
    "canvas.fill_style = \"#8ee05e\"\n",
    "canvas.fill_rect(0, 0, canvas.width, canvas.height)\n",
    "\n",
    "canvas.fill_style = \"#f5f533\"\n",
    "canvas.fill_circle(canvas.width / 2.0, canvas.height / 2.0, 500)\n",
    "\n",
    "canvas.stroke_style = \"black\"\n",
    "canvas.line_width = 30\n",
    "canvas.stroke_circle(canvas.width / 2.0, canvas.height / 2.0, 500)\n",
    "\n",
    "canvas.fill_style = \"black\"\n",
    "canvas.fill_circle(canvas.width / 2.7, canvas.height / 3.0, 100)  # Right eye\n",
    "canvas.stroke_arc(canvas.width / 2.0, canvas.height / 2.0, 400, 0, pi, False)  # Mouth\n",
    "canvas.stroke_arc(\n",
    "    canvas.width - canvas.width / 2.7, canvas.height / 2.7, 100, 0, pi, True\n",
    ")  # Left eye\n",
    "\n",
    "canvas"
   ]
  },
  {
   "cell_type": "code",
   "execution_count": 3,
   "metadata": {},
   "outputs": [],
   "source": [
    "\"Plain NumPy implementation of simulation in fused.ispc.c.\"\n",
    "\n",
    "import numpy as np\n",
    "import scipy.sparse\n",
    "import tqdm\n",
    "\n",
    "\n",
    "def _cfun(t, buffer, csr_weights, idelays2, horizon):\n",
    "    cx = buffer[csr_weights.indices, (t-idelays2) % horizon]\n",
    "    cx *= csr_weights.data.reshape(-1, 1)\n",
    "    cx = np.add.reduceat(cx, csr_weights.indptr[:-1], axis=1)\n",
    "    return cx  # (2, num_node, num_item)\n",
    "\n",
    "def _dfun(x, cx, sim_params):\n",
    "    a, tau, k = sim_params\n",
    "    return np.array([\n",
    "        tau*(x[0] - x[0]**3/3 + x[1]),\n",
    "        (1/tau)*(a + k*cx - x[0])\n",
    "    ])  # (2, num_node, num_item)\n",
    "\n",
    "def _heun(x, cx, dt, num_node, num_item, dfun, sim_params):\n",
    "    z = np.random.randn(2, num_node, num_item)\n",
    "    z *= 0  # z_scale.reshape((2, 1, 1))\n",
    "    dx1 = dfun(x, cx[0], sim_params)\n",
    "    dx2 = dfun(x + dt*dx1 + z, cx[1], sim_params)\n",
    "    return x + dt/2*(dx1 + dx2) + z\n",
    "\n",
    "\n",
    "def run_sim_np(\n",
    "    csr_weights: scipy.sparse.csr_matrix,\n",
    "    idelays: np.ndarray,\n",
    "    sim_params: np.ndarray,\n",
    "    z_scale: np.ndarray,\n",
    "    horizon: int,\n",
    "    rng_seed=43, num_item=8, num_node=90, num_svar=2, num_time=1000, dt=0.1,\n",
    "    num_skip=5\n",
    "):\n",
    "    trace_shape = num_time // num_skip + 1, num_svar, num_node, num_item\n",
    "    trace = np.zeros(trace_shape, 'f')\n",
    "    assert idelays.max() < horizon-2\n",
    "    idelays2 = -horizon + np.c_[idelays, idelays-1].T\n",
    "    assert idelays2.shape == (2, csr_weights.nnz)\n",
    "    buffer = np.zeros((num_node, horizon, num_item))\n",
    "\n",
    "    x = np.zeros((2, num_node, num_item), 'f')\n",
    "\n",
    "    for t in tqdm.trange(trace.shape[0]):\n",
    "        for tt in range(num_skip):\n",
    "            ttt = t*num_skip + tt\n",
    "            cx = _cfun(ttt, buffer, csr_weights, idelays2, horizon)\n",
    "            x = _heun(x, cx, dt, num_node, num_item, _dfun, sim_params)\n",
    "            buffer[:, ttt % horizon] = x[0]\n",
    "        trace[t] = x\n",
    "\n",
    "    return trace\n"
   ]
  },
  {
   "cell_type": "code",
   "execution_count": 6,
   "metadata": {},
   "outputs": [
    {
     "name": "stderr",
     "output_type": "stream",
     "text": [
      "100%|██████████| 1001/1001 [00:07<00:00, 136.56it/s]"
     ]
    },
    {
     "name": "stdout",
     "output_type": "stream",
     "text": [
      "7.332791566848755 s 87279.1752179911 iter/s numpy\n"
     ]
    },
    {
     "name": "stderr",
     "output_type": "stream",
     "text": [
      "\n"
     ]
    }
   ],
   "source": [
    "import time\n",
    "\n",
    "np.random.seed(42)\n",
    "\n",
    "num_item = 64\n",
    "num_node = 90\n",
    "num_skip = 10\n",
    "dt = 0.1\n",
    "sparsity = 0.3\n",
    "horizon = 256\n",
    "num_time = int(1e3/dt)\n",
    "horizonm1 = horizon - 1\n",
    "sim_params = np.zeros((3, num_item), 'f')\n",
    "sim_params[0] = 1.001\n",
    "sim_params[1] = 1.0\n",
    "sim_params[2] = np.logspace(-1.8, -2.0, num_item)/num_node*80 # k\n",
    "z_scale = np.sqrt(dt)*np.r_[0.01, 0.1].astype('f')*1e-8\n",
    "\n",
    "weights, lengths = np.random.rand(2, num_node, num_node).astype('f')\n",
    "lengths[:] *= 0.8\n",
    "lengths *= (horizon*dt*0.8)\n",
    "zero_mask = weights < (1-sparsity)\n",
    "weights[zero_mask] = 0\n",
    "csr_weights = scipy.sparse.csr_matrix(weights)\n",
    "idelays = (lengths[~zero_mask]/dt).astype('i')+2\n",
    "\n",
    "tic = time.time()\n",
    "run_sim_np(\n",
    "    csr_weights, idelays, sim_params, z_scale, horizon,\n",
    "    num_item=num_item, num_node=num_node, num_time=num_time,\n",
    "    dt=dt, num_skip=num_skip\n",
    ")\n",
    "tok = time.time()\n",
    "print(tok - tic, 's', num_time*num_item/(tok-tic), 'iter/s numpy')"
   ]
  },
  {
   "cell_type": "code",
   "execution_count": 9,
   "metadata": {},
   "outputs": [],
   "source": [
    "np.save('weights.npy',\n",
    "        np.random.randn(num_node, num_node).astype('f') * 0.01)"
   ]
  },
  {
   "cell_type": "code",
   "execution_count": 10,
   "metadata": {},
   "outputs": [
    {
     "name": "stdout",
     "output_type": "stream",
     "text": [
      "(90, 90)\n"
     ]
    }
   ],
   "source": [
    "weights = np.load('weights.npy')\n",
    "print(weights.shape)"
   ]
  },
  {
   "cell_type": "code",
   "execution_count": 11,
   "metadata": {},
   "outputs": [],
   "source": [
    "import ipywidgets as widgets"
   ]
  },
  {
   "cell_type": "code",
   "execution_count": 12,
   "metadata": {},
   "outputs": [
    {
     "data": {
      "application/vnd.jupyter.widget-view+json": {
       "model_id": "381c4f1e2bea41a1ae25cf4319774c35",
       "version_major": 2,
       "version_minor": 0
      },
      "text/plain": [
       "IntSlider(value=0)"
      ]
     },
     "execution_count": 12,
     "metadata": {},
     "output_type": "execute_result"
    }
   ],
   "source": [
    "slider = widgets.IntSlider(value=0, min=0, max=100)\n",
    "slider"
   ]
  },
  {
   "cell_type": "code",
   "execution_count": 13,
   "metadata": {},
   "outputs": [
    {
     "name": "stdout",
     "output_type": "stream",
     "text": [
      "Training MDN on 4000 samples...\n",
      "Input features dimension: 1, Output parameters dimension: 2\n",
      "\n",
      "Starting training...\n",
      "Iteration     1/1200, Loss: 8.8426\n",
      "Iteration   200/1200, Loss: 2.0169\n",
      "Iteration   400/1200, Loss: 1.9614\n",
      "Iteration   600/1200, Loss: 1.9401\n",
      "Iteration   800/1200, Loss: 1.9266\n",
      "Iteration  1000/1200, Loss: 1.9179\n",
      "Iteration  1200/1200, Loss: 1.9139\n",
      "Training finished.\n",
      "\n",
      "Final loss: 1.9139\n",
      "\n",
      "--- Validation ---\n",
      "True Mode 1 (for positive feats): [2. 3.]\n",
      "True Mode 2 (for negative feats): [-2. -3.]\n",
      "Predicted mode for positive feature: [2.04 3.04]\n",
      "Predicted mode for negative feature: [-2.01 -3.01]\n",
      "\n",
      "Success: The network correctly identified the true modes of the distribution.\n"
     ]
    }
   ],
   "source": [
    "import mdn\n",
    "mdn.test_mdn()"
   ]
  }
 ],
 "metadata": {
  "kernelspec": {
   "display_name": "tvbl",
   "language": "python",
   "name": "python3"
  },
  "language_info": {
   "codemirror_mode": {
    "name": "ipython",
    "version": 3
   },
   "file_extension": ".py",
   "mimetype": "text/x-python",
   "name": "python",
   "nbconvert_exporter": "python",
   "pygments_lexer": "ipython3",
   "version": "3.12.10"
  }
 },
 "nbformat": 4,
 "nbformat_minor": 4
}
