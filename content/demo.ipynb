{
 "cells": [
  {
   "cell_type": "code",
   "execution_count": 1,
   "metadata": {},
   "outputs": [
    {
     "name": "stdout",
     "output_type": "stream",
     "text": [
      "%pylab is deprecated, use %matplotlib inline and import the required libraries.\n",
      "Populating the interactive namespace from numpy and matplotlib\n"
     ]
    }
   ],
   "source": [
    "%pylab inline\n",
    "import time, tvbl, mdn, scipy.sparse"
   ]
  },
  {
   "cell_type": "code",
   "execution_count": 2,
   "metadata": {},
   "outputs": [
    {
     "name": "stderr",
     "output_type": "stream",
     "text": [
      "100%|██████████████████████████████████████| 1001/1001 [00:16<00:00, 60.62it/s]"
     ]
    },
    {
     "name": "stdout",
     "output_type": "stream",
     "text": [
      "16.533142566680908 s 38710.124068595775 iter/s\n"
     ]
    },
    {
     "name": "stderr",
     "output_type": "stream",
     "text": [
      "\n"
     ]
    }
   ],
   "source": [
    "np.random.seed(42)\n",
    "\n",
    "num_item = 64\n",
    "num_node = 90\n",
    "num_skip = 10\n",
    "dt = 0.1\n",
    "sparsity = 0.3\n",
    "horizon = 256\n",
    "num_time = int(1e3/dt)\n",
    "horizonm1 = horizon - 1\n",
    "sim_params = np.zeros((3, num_item), 'f')\n",
    "sim_params[0] = 1.001\n",
    "sim_params[1] = 1.0\n",
    "sim_params[2] = np.logspace(-1.8, -2.0, num_item)/num_node*80 # k\n",
    "z_scale = np.sqrt(dt)*np.r_[0.01, 0.1].astype('f')*1e-8\n",
    "\n",
    "weights, lengths = np.random.rand(2, num_node, num_node).astype('f')\n",
    "lengths[:] *= 0.8\n",
    "lengths *= (horizon*dt*0.8)\n",
    "zero_mask = weights < (1-sparsity)\n",
    "weights[zero_mask] = 0\n",
    "csr_weights = scipy.sparse.csr_matrix(weights)\n",
    "idelays = (lengths[~zero_mask]/dt).astype('i')+2\n",
    "\n",
    "y = tvbl.run(\n",
    "    csr_weights, idelays, sim_params, z_scale, horizon,\n",
    "    num_item=num_item, num_node=num_node, num_time=num_time,\n",
    "    dt=dt, num_skip=num_skip\n",
    ")\n",
    "np.save('y.npy', y)"
   ]
  },
  {
   "cell_type": "code",
   "execution_count": 3,
   "metadata": {},
   "outputs": [
    {
     "data": {
      "application/vnd.jupyter.widget-view+json": {
       "model_id": "20d19c72b4194118b80c022f3514810b",
       "version_major": 2,
       "version_minor": 0
      },
      "text/plain": [
       "IntSlider(value=0)"
      ]
     },
     "execution_count": 3,
     "metadata": {},
     "output_type": "execute_result"
    }
   ],
   "source": [
    "import ipywidgets as widgets\n",
    "\n",
    "slider = widgets.IntSlider(value=0, min=0, max=100)\n",
    "slider"
   ]
  },
  {
   "cell_type": "code",
   "execution_count": 4,
   "metadata": {},
   "outputs": [
    {
     "name": "stdout",
     "output_type": "stream",
     "text": [
      "Training MDN on 4000 samples...\n",
      "Input features dimension: 1, Output parameters dimension: 2\n",
      "\n",
      "Starting training...\n",
      "Iteration     1/400, Loss: 8.7304\n",
      "Iteration   200/400, Loss: 1.9709\n",
      "Iteration   400/400, Loss: 1.9161\n",
      "Training finished.\n",
      "\n",
      "Final loss: 1.9161\n",
      "\n",
      "--- Validation ---\n",
      "True Mode 1 (for positive feats): [2. 3.]\n",
      "True Mode 2 (for negative feats): [-2. -3.]\n",
      "Predicted mode for positive feature: [1.99 3.  ]\n",
      "Predicted mode for negative feature: [-2. -3.]\n",
      "\n",
      "Success: The network correctly identified the true modes of the distribution.\n",
      "Generating samples for positive feature...\n",
      "Generating samples for negative feature...\n"
     ]
    },
    {
     "data": {
      "image/png": "[encoded data removed]",
      "text/plain": [
       "<Figure size 640x480 with 1 Axes>"
      ]
     },
     "metadata": {},
     "output_type": "display_data"
    }
   ],
   "source": [
    "import mdn\n",
    "mdn.test_mdn(plot=True)"
   ]
  }
 ],
 "metadata": {
  "kernelspec": {
   "display_name": "Python 3 (ipykernel)",
   "language": "python",
   "name": "python3"
  },
  "language_info": {
   "codemirror_mode": {
    "name": "ipython",
    "version": 3
   },
   "file_extension": ".py",
   "mimetype": "text/x-python",
   "name": "python",
   "nbconvert_exporter": "python",
   "pygments_lexer": "ipython3",
   "version": "3.11.2"
  }
 },
 "nbformat": 4,
 "nbformat_minor": 4
}
