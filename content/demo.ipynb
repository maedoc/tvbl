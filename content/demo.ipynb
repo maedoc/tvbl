{
 "cells": [
  {
   "cell_type": "markdown",
   "metadata": {},
   "source": [
    "# tvbl\n",
    "\n",
    "this is a proof of concept \"tvb lite\" a browser-based [virtual brain](thevirtualbrain.org) Jupyter\n",
    "environment.  in the workflow here, we do a simulation, then we try to recover the parameters used. "
   ]
  },
  {
   "cell_type": "code",
   "execution_count": 1,
   "metadata": {},
   "outputs": [
    {
     "name": "stdout",
     "output_type": "stream",
     "text": [
      "%pylab is deprecated, use %matplotlib inline and import the required libraries.\n",
      "Populating the interactive namespace from numpy and matplotlib\n"
     ]
    }
   ],
   "source": [
    "%pylab inline\n",
    "import time, tvbl, mdn, scipy.sparse, ipywidgets as w, tqdm, cde, models"
   ]
  },
  {
   "cell_type": "markdown",
   "metadata": {},
   "source": [
    "## different models available\n",
    "\n",
    "22 of the TVB models are adapted for use,"
   ]
  },
  {
   "cell_type": "code",
   "execution_count": 2,
   "metadata": {},
   "outputs": [
    {
     "name": "stdout",
     "output_type": "stream",
     "text": [
      "0 KIonEx  5 1 1\n",
      "1 Epileptor  6 2 1\n",
      "2 Epileptor2D  2 1 1\n",
      "3 MontbrioPazoRoxin  2 2 1\n",
      "4 CoombesByrne  4 4 1\n",
      "5 CoombesByrne2D  2 2 1\n",
      "6 GastSchmidtKnosche_SD  4 4 1\n",
      "7 GastSchmidtKnosche_SF  4 4 1\n",
      "8 DumontGutkin  8 4 1\n",
      "9 JansenRit  6 2 1\n",
      "10 ZetterbergJansen  12 1 1\n",
      "11 LarterBreakspear  3 1 1\n",
      "12 Linear  1 1 1\n",
      "13 Generic2dOscillator  2 1 1\n",
      "14 Kuramoto  1 1 1\n",
      "15 SupHopf  2 2 1\n",
      "16 WilsonCowan  2 2 1\n",
      "17 ReducedWongWangExcInh  2 1 1\n",
      "18 DecoBalancedExcInh  2 1 1\n",
      "19 ReducedWongWang  1 1 1\n",
      "20 ReducedSetFitzHughNagumo  4 2 3\n",
      "21 ReducedSetHindmarshRose  6 2 3\n"
     ]
    }
   ],
   "source": [
    "models.test_models()"
   ]
  },
  {
   "cell_type": "markdown",
   "metadata": {},
   "source": [
    "## interactively choose a simulated ground truth"
   ]
  },
  {
   "cell_type": "code",
   "execution_count": 14,
   "metadata": {},
   "outputs": [
    {
     "data": {
      "application/vnd.jupyter.widget-view+json": {
       "model_id": "6bc8557297b54806bddba554fce7cc77",
       "version_major": 2,
       "version_minor": 0
      },
      "text/plain": [
       "interactive(children=(FloatSlider(value=1.28, description='a', max=1.4, min=1.0, step=0.01), FloatSlider(value…"
      ]
     },
     "metadata": {},
     "output_type": "display_data"
    }
   ],
   "source": [
    "param_limits = dict(\n",
    "    a=(1.,1.4,0.01), tau=(1.,2.,0.01), log_k=(-7.,-3.,0.01), log_z=(-1,1,0.01)\n",
    ")\n",
    "choices = {'params': None, 'trace': None}\n",
    "\n",
    "@w.interact(**param_limits)\n",
    "def run_plot_1(a=1.28, tau=1.35, log_k=-4.80, log_z=0.16):\n",
    "    np.random.seed(42)\n",
    "    \n",
    "    num_item = 1\n",
    "    num_node = 90\n",
    "    num_skip = 1\n",
    "    dt = 0.1\n",
    "    sparsity = 0.3\n",
    "    horizon = 256\n",
    "    num_time = int(1e2/dt)\n",
    "    horizonm1 = horizon - 1\n",
    "    sim_params = np.r_[a, tau, np.exp(log_k)/num_node*80][:,None].astype('f')\n",
    "    z_scale = np.sqrt(dt)*np.r_[0.01, 0.1].astype('f')*np.exp(log_z)\n",
    "    choices['params'] = np.r_[a, tau, log_k, log_z]\n",
    "    \n",
    "    weights, lengths = np.random.rand(2, num_node, num_node).astype('f')\n",
    "    lengths[:] *= 0.8\n",
    "    lengths *= (horizon*dt*0.8)\n",
    "    zero_mask = weights < (1-sparsity)\n",
    "    weights[zero_mask] = 0\n",
    "    csr_weights = scipy.sparse.csr_matrix(weights)\n",
    "    idelays = (lengths[~zero_mask]/dt).astype('i')+2\n",
    "    \n",
    "    dfun = tvbl.DFun(sim_params=sim_params)\n",
    "    y = tvbl.run(\n",
    "        csr_weights, idelays, dfun, z_scale, horizon,\n",
    "        num_item=num_item, num_node=num_node, num_time=num_time,\n",
    "        dt=dt, num_skip=num_skip, show_time=False,\n",
    "    )\n",
    "    choices['trace'] = y\n",
    "    \n",
    "    figure(figsize=(8, 2));\n",
    "    plot(y[:, 0, :, 0], 'k', alpha=0.2);\n",
    "    grid(1); xlabel('time (ms)'); ylabel('y(t)')\n",
    "\n",
    "    show()"
   ]
  },
  {
   "cell_type": "code",
   "execution_count": 15,
   "metadata": {},
   "outputs": [
    {
     "data": {
      "text/plain": [
       "(array([ 1.28,  1.35, -4.8 ,  0.16]),\n",
       " {'a': (1.0, 1.4, 0.01),\n",
       "  'tau': (1.0, 2.0, 0.01),\n",
       "  'log_k': (-7.0, -3.0, 0.01),\n",
       "  'log_z': (-1, 1, 0.01)})"
      ]
     },
     "execution_count": 15,
     "metadata": {},
     "output_type": "execute_result"
    }
   ],
   "source": [
    "choices['params'], param_limits"
   ]
  },
  {
   "cell_type": "markdown",
   "metadata": {},
   "source": [
    "## features\n",
    "\n",
    "let's use simple means, variance and average fft"
   ]
  },
  {
   "cell_type": "code",
   "execution_count": 17,
   "metadata": {},
   "outputs": [
    {
     "data": {
      "text/plain": [
       "(436, 1)"
      ]
     },
     "execution_count": 17,
     "metadata": {},
     "output_type": "execute_result"
    }
   ],
   "source": [
    "def features(trace):\n",
    "    x = trace[200:, 0]\n",
    "    mu = x.mean(axis=0)\n",
    "    std = x.std(axis=0)\n",
    "    ft = np.abs(np.fft.fft(x[-256:], axis=0).mean(axis=1))\n",
    "    return np.concatenate([mu, std, ft]).astype('f')\n",
    "\n",
    "choices['features'] = features(choices['trace'])\n",
    "choices['features'].shape"
   ]
  },
  {
   "cell_type": "markdown",
   "metadata": {},
   "source": [
    "to know if these are useful, we should sample and look at the distribution of covariance"
   ]
  },
  {
   "cell_type": "markdown",
   "metadata": {},
   "source": [
    "## Sample prior distribution\n",
    "\n",
    "We establish a prior and a function to sample from it"
   ]
  },
  {
   "cell_type": "code",
   "execution_count": 18,
   "metadata": {},
   "outputs": [
    {
     "data": {
      "text/plain": [
       "array([[ 1.0957402 ,  1.1510969 ,  1.3144447 ],\n",
       "       [ 1.9382775 ,  1.943941  ,  1.0482781 ],\n",
       "       [-4.2325106 , -4.0434012 , -5.3022647 ],\n",
       "       [ 0.93805724, -0.57226634,  0.54184717]], dtype=float32)"
      ]
     },
     "execution_count": 18,
     "metadata": {},
     "output_type": "execute_result"
    }
   ],
   "source": [
    "p_lo, p_hi = np.zeros((2, 4))\n",
    "for i, key in enumerate('a tau log_k log_z'.split(' ')):\n",
    "    p_lo[i] = param_limits[key][0]\n",
    "    p_hi[i] = param_limits[key][1]\n",
    "\n",
    "def sample_prior(num_item):\n",
    "    u = np.random.uniform(size=(p_lo.size, num_item)).T\n",
    "    u *= p_hi - p_lo\n",
    "    u += p_lo\n",
    "    return u.T.astype('f')\n",
    "\n",
    "sample_prior(3)"
   ]
  },
  {
   "cell_type": "markdown",
   "metadata": {},
   "source": [
    "## Sample prior predictive distribution\n",
    "\n",
    "To sample the prior predictive distribution, we map each prior sample through the simulator to obtain data features."
   ]
  },
  {
   "cell_type": "code",
   "execution_count": 25,
   "metadata": {},
   "outputs": [
    {
     "name": "stderr",
     "output_type": "stream",
     "text": [
      "100%|██████████████████████████████████████████| 64/64 [00:23<00:00,  2.77it/s]\n"
     ]
    }
   ],
   "source": [
    "sample_params = []\n",
    "sample_features = []\n",
    "\n",
    "for i_batch in tqdm.trange(num_batch := 64, ncols=79):\n",
    "    num_item = 32\n",
    "    num_node = 90\n",
    "    num_skip = 1\n",
    "    dt = 0.1\n",
    "    sparsity = 0.3\n",
    "    horizon = 256\n",
    "    num_time = int(1e2/dt)\n",
    "    horizonm1 = horizon - 1\n",
    "    sim_params = sample_prior(num_item)\n",
    "    sample_params.append(sim_params.copy())\n",
    "    sim_params[2] = np.exp(sim_params[2])/num_node*80 # k\n",
    "    z_scale = np.sqrt(dt)*np.r_[0.01, 0.1].astype('f')[:,None]*np.exp(sim_params[3])\n",
    "    sim_params = sim_params[:3]  # keep z separate\n",
    "    \n",
    "    weights, lengths = np.random.rand(2, num_node, num_node).astype('f')\n",
    "    lengths[:] *= 0.8\n",
    "    lengths *= (horizon*dt*0.8)\n",
    "    zero_mask = weights < (1-sparsity)\n",
    "    weights[zero_mask] = 0\n",
    "    csr_weights = scipy.sparse.csr_matrix(weights)\n",
    "    idelays = (lengths[~zero_mask]/dt).astype('i')+2\n",
    "    \n",
    "    dfun = tvbl.DFun(sim_params=sim_params)\n",
    "    y = tvbl.run(\n",
    "        csr_weights, idelays, dfun, z_scale, horizon,\n",
    "        num_item=num_item, num_node=num_node, num_time=num_time,\n",
    "        dt=dt, num_skip=num_skip, show_time=False\n",
    "    )\n",
    "\n",
    "    sample_features.append(features(y))\n",
    "\n",
    "sample_params = np.array(sample_params).transpose(1, 0, 2).reshape(-1, num_batch*num_item)\n",
    "sample_features = np.array(sample_features).transpose(1, 0, 2).reshape(-1, num_batch*num_item)"
   ]
  },
  {
   "cell_type": "markdown",
   "metadata": {},
   "source": [
    "### clean any unstable simulations"
   ]
  },
  {
   "cell_type": "code",
   "execution_count": 26,
   "metadata": {},
   "outputs": [
    {
     "name": "stdout",
     "output_type": "stream",
     "text": [
      "dropped 0 non finite samples, leaving 2048 samples\n"
     ]
    }
   ],
   "source": [
    "ok = np.isfinite(sample_features).all(axis=0)\n",
    "sample_params = sample_params[:, ok]\n",
    "sample_features = sample_features[:, ok]\n",
    "print(f'dropped {(~ok).sum()} non finite samples, leaving {ok.sum()} samples')"
   ]
  },
  {
   "cell_type": "markdown",
   "metadata": {},
   "source": [
    "## Train conditional density estimator"
   ]
  },
  {
   "cell_type": "code",
   "execution_count": 28,
   "metadata": {},
   "outputs": [
    {
     "data": {
      "application/vnd.jupyter.widget-view+json": {
       "model_id": "cdece25ffe3443c592c639fc8953e845",
       "version_major": 2,
       "version_minor": 0
      },
      "text/plain": [
       "Training:   0%|          | 0/1500 [00:00<?, ?it/s]"
      ]
     },
     "metadata": {},
     "output_type": "display_data"
    }
   ],
   "source": [
    "maf = cde.MAFEstimator(\n",
    "    param_dim=sample_params.shape[0],\n",
    "    feature_dim=sample_features.shape[0],\n",
    "    n_flows=8,\n",
    "    hidden_units=128\n",
    ")\n",
    "\n",
    "maf.train(sample_params.T, sample_features.T, n_iter=1500, learning_rate=1e-5)"
   ]
  },
  {
   "cell_type": "markdown",
   "metadata": {},
   "source": [
    "## Apply regressor\n",
    "\n",
    "Once training is done, inference (conditioning joint distribution on data) is *amortized* meaning it is quite fast (enabling even real time applications)"
   ]
  },
  {
   "cell_type": "code",
   "execution_count": 29,
   "metadata": {},
   "outputs": [
    {
     "name": "stdout",
     "output_type": "stream",
     "text": [
      "58.6 ms ± 17.3 ms per loop (mean ± std. dev. of 5 runs, 50 loops each)\n"
     ]
    }
   ],
   "source": [
    "rng = np.random.RandomState(42)\n",
    "%timeit -n50 -r5 maf.sample(choices['features'][:,0], 1000, rng)[0]\n",
    "post_samples = maf.sample(choices['features'][:,0], 1000, rng)[0]"
   ]
  },
  {
   "cell_type": "markdown",
   "metadata": {},
   "source": [
    "## Evaluate\n",
    "\n",
    "In this simple case, we just look at the posteriors along with the true values"
   ]
  },
  {
   "cell_type": "code",
   "execution_count": 30,
   "metadata": {},
   "outputs": [
    {
     "data": {
      "image/png": "[encoded data removed]",
      "text/plain": [
       "<Figure size 800x200 with 4 Axes>"
      ]
     },
     "metadata": {},
     "output_type": "display_data"
    }
   ],
   "source": [
    "figure(figsize=(8,2))\n",
    "for i in range(4):\n",
    "    subplot(1, 4, i+1)\n",
    "    axvline(p_lo[i], color='b')\n",
    "    axvline(p_hi[i], color='b')\n",
    "    hist(post_samples[:,i], 20)\n",
    "    axvline(choices['params'][i], color='r')"
   ]
  },
  {
   "cell_type": "markdown",
   "metadata": {},
   "source": [
    "we can see that the true value (in red) lies in the posterior distribution which has shrunk from the prior (blue lines)."
   ]
  }
 ],
 "metadata": {
  "kernelspec": {
   "display_name": "Python 3 (ipykernel)",
   "language": "python",
   "name": "python3"
  },
  "language_info": {
   "codemirror_mode": {
    "name": "ipython",
    "version": 3
   },
   "file_extension": ".py",
   "mimetype": "text/x-python",
   "name": "python",
   "nbconvert_exporter": "python",
   "pygments_lexer": "ipython3",
   "version": "3.12.10"
  }
 },
 "nbformat": 4,
 "nbformat_minor": 4
}
