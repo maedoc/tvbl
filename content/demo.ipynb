{
 "cells": [
  {
   "cell_type": "markdown",
   "metadata": {},
   "source": [
    "# tvbl\n",
    "\n",
    "this is a proof of concept \"tvb lite\" a browser-based [virtual brain](thevirtualbrain.org) Jupyter\n",
    "environment.  in the workflow here, we do a simulation, then we try to recover the parameters used. "
   ]
  },
  {
   "cell_type": "code",
   "execution_count": 1,
   "metadata": {},
   "outputs": [
    {
     "name": "stdout",
     "output_type": "stream",
     "text": [
      "%pylab is deprecated, use %matplotlib inline and import the required libraries.\n",
      "Populating the interactive namespace from numpy and matplotlib\n"
     ]
    }
   ],
   "source": [
    "%pylab inline\n",
    "import time, tvbl, mdn, scipy.sparse, ipywidgets as w, tqdm"
   ]
  },
  {
   "cell_type": "markdown",
   "metadata": {},
   "source": [
    "## interactively choose a simulated ground truth"
   ]
  },
  {
   "cell_type": "code",
   "execution_count": 2,
   "metadata": {},
   "outputs": [
    {
     "data": {
      "application/vnd.jupyter.widget-view+json": {
       "model_id": "d9249ffd8cb842ad9d970b70ac04aada",
       "version_major": 2,
       "version_minor": 0
      },
      "text/plain": [
       "interactive(children=(FloatSlider(value=1.0, description='a', max=1.4, min=1.0, step=0.01), FloatSlider(value=…"
      ]
     },
     "metadata": {},
     "output_type": "display_data"
    }
   ],
   "source": [
    "param_limits = dict(\n",
    "    a=(1.,1.4,0.01), tau=(1.,2.,0.01), log_k=(-7.,-3.,0.01), log_z=(-1,1,0.01)\n",
    ")\n",
    "choices = {'params': None, 'trace': None}\n",
    "\n",
    "@w.interact(**param_limits)\n",
    "def run_plot_1(a=0.76, tau=1.0, log_k=-4.02, log_z=-4.0):\n",
    "    np.random.seed(42)\n",
    "    \n",
    "    num_item = 1\n",
    "    num_node = 90\n",
    "    num_skip = 1\n",
    "    dt = 0.1\n",
    "    sparsity = 0.3\n",
    "    horizon = 256\n",
    "    num_time = int(1e2/dt)\n",
    "    horizonm1 = horizon - 1\n",
    "    sim_params = np.r_[a, tau, np.exp(log_k)/num_node*80][:,None].astype('f')\n",
    "    z_scale = np.sqrt(dt)*np.r_[0.01, 0.1].astype('f')*np.exp(log_z)\n",
    "    choices['params'] = np.r_[a, tau, log_k, log_z]\n",
    "    \n",
    "    weights, lengths = np.random.rand(2, num_node, num_node).astype('f')\n",
    "    lengths[:] *= 0.8\n",
    "    lengths *= (horizon*dt*0.8)\n",
    "    zero_mask = weights < (1-sparsity)\n",
    "    weights[zero_mask] = 0\n",
    "    csr_weights = scipy.sparse.csr_matrix(weights)\n",
    "    idelays = (lengths[~zero_mask]/dt).astype('i')+2\n",
    "    \n",
    "    y = tvbl.run(\n",
    "        csr_weights, idelays, sim_params, z_scale, horizon,\n",
    "        num_item=num_item, num_node=num_node, num_time=num_time,\n",
    "        dt=dt, num_skip=num_skip, show_time=False,\n",
    "    )\n",
    "    choices['trace'] = y\n",
    "    \n",
    "    figure(figsize=(8, 2));\n",
    "    plot(y[:, 0, :, 0], 'k', alpha=0.2);\n",
    "    grid(1); xlabel('time (ms)'); ylabel('y(t)')\n",
    "\n",
    "    show()"
   ]
  },
  {
   "cell_type": "code",
   "execution_count": 3,
   "metadata": {},
   "outputs": [
    {
     "data": {
      "text/plain": [
       "(array([ 1.  ,  1.  , -4.02, -1.  ]),\n",
       " {'a': (1.0, 1.4, 0.01),\n",
       "  'tau': (1.0, 2.0, 0.01),\n",
       "  'log_k': (-7.0, -3.0, 0.01),\n",
       "  'log_z': (-1, 1, 0.01)})"
      ]
     },
     "execution_count": 3,
     "metadata": {},
     "output_type": "execute_result"
    }
   ],
   "source": [
    "choices['params'], param_limits"
   ]
  },
  {
   "cell_type": "markdown",
   "metadata": {},
   "source": [
    "## features\n",
    "\n",
    "let's use simple means, variance and average fft"
   ]
  },
  {
   "cell_type": "code",
   "execution_count": 4,
   "metadata": {},
   "outputs": [
    {
     "data": {
      "text/plain": [
       "(1001, 2, 90, 1)"
      ]
     },
     "execution_count": 4,
     "metadata": {},
     "output_type": "execute_result"
    }
   ],
   "source": [
    "choices['trace'].shape"
   ]
  },
  {
   "cell_type": "code",
   "execution_count": 5,
   "metadata": {},
   "outputs": [
    {
     "data": {
      "text/plain": [
       "(436, 1)"
      ]
     },
     "execution_count": 5,
     "metadata": {},
     "output_type": "execute_result"
    }
   ],
   "source": [
    "def features(trace):\n",
    "    x = trace[200:, 0]\n",
    "    mu = x.mean(axis=0)\n",
    "    std = x.std(axis=0)\n",
    "    ft = np.abs(np.fft.fft(x[-256:], axis=0).mean(axis=1))\n",
    "    return np.concatenate([mu, std, ft]).astype('f')\n",
    "\n",
    "choices['features'] = features(choices['trace'])\n",
    "choices['features'].shape"
   ]
  },
  {
   "cell_type": "markdown",
   "metadata": {},
   "source": [
    "to know if these are useful, we should sample and look at the distribution of covariance"
   ]
  },
  {
   "cell_type": "markdown",
   "metadata": {},
   "source": [
    "## Sample prior distribution\n",
    "\n",
    "We establish a prior and a function to sample from it"
   ]
  },
  {
   "cell_type": "code",
   "execution_count": 6,
   "metadata": {},
   "outputs": [
    {
     "data": {
      "text/plain": [
       "array([[ 1.0957402 ,  1.1510969 ,  1.3144447 ],\n",
       "       [ 1.9382775 ,  1.943941  ,  1.0482781 ],\n",
       "       [-4.2325106 , -4.0434012 , -5.3022647 ],\n",
       "       [ 0.93805724, -0.57226634,  0.54184717]], dtype=float32)"
      ]
     },
     "execution_count": 6,
     "metadata": {},
     "output_type": "execute_result"
    }
   ],
   "source": [
    "p_lo, p_hi = np.zeros((2, 4))\n",
    "for i, key in enumerate('a tau log_k log_z'.split(' ')):\n",
    "    p_lo[i] = param_limits[key][0]\n",
    "    p_hi[i] = param_limits[key][1]\n",
    "\n",
    "def sample_prior(num_item):\n",
    "    u = np.random.uniform(size=(p_lo.size, num_item)).T\n",
    "    u *= p_hi - p_lo\n",
    "    u += p_lo\n",
    "    return u.T.astype('f')\n",
    "\n",
    "sample_prior(3)"
   ]
  },
  {
   "cell_type": "markdown",
   "metadata": {},
   "source": [
    "## Sample prior predictive distribution\n",
    "\n",
    "To sample the prior predictive distribution, we map each prior sample through the simulator to obtain data features."
   ]
  },
  {
   "cell_type": "code",
   "execution_count": 7,
   "metadata": {},
   "outputs": [
    {
     "name": "stderr",
     "output_type": "stream",
     "text": [
      "100%|████████████████████████████████████████████████████| 32/32 [00:28<00:00,  1.12it/s]\n"
     ]
    }
   ],
   "source": [
    "sample_params = []\n",
    "sample_features = []\n",
    "\n",
    "for i_batch in tqdm.trange(num_batch := 32):\n",
    "    num_item = 32\n",
    "    num_node = 90\n",
    "    num_skip = 1\n",
    "    dt = 0.1\n",
    "    sparsity = 0.3\n",
    "    horizon = 256\n",
    "    num_time = int(1e2/dt)\n",
    "    horizonm1 = horizon - 1\n",
    "    sim_params = sample_prior(num_item)\n",
    "    sample_params.append(sim_params.copy())\n",
    "    sim_params[2] = np.exp(sim_params[2])/num_node*80 # k\n",
    "    z_scale = np.sqrt(dt)*np.r_[0.01, 0.1].astype('f')[:,None]*np.exp(sim_params[3])\n",
    "    sim_params = sim_params[:3]  # keep z separate\n",
    "    \n",
    "    weights, lengths = np.random.rand(2, num_node, num_node).astype('f')\n",
    "    lengths[:] *= 0.8\n",
    "    lengths *= (horizon*dt*0.8)\n",
    "    zero_mask = weights < (1-sparsity)\n",
    "    weights[zero_mask] = 0\n",
    "    csr_weights = scipy.sparse.csr_matrix(weights)\n",
    "    idelays = (lengths[~zero_mask]/dt).astype('i')+2\n",
    "    \n",
    "    y = tvbl.run(\n",
    "        csr_weights, idelays, sim_params, z_scale, horizon,\n",
    "        num_item=num_item, num_node=num_node, num_time=num_time,\n",
    "        dt=dt, num_skip=num_skip, show_time=False\n",
    "    )\n",
    "\n",
    "    sample_features.append(features(y))\n",
    "\n",
    "sample_params = np.array(sample_params).transpose(1, 0, 2).reshape(-1, num_batch*num_item)\n",
    "sample_features = np.array(sample_features).transpose(1, 0, 2).reshape(-1, num_batch*num_item)"
   ]
  },
  {
   "cell_type": "code",
   "execution_count": 8,
   "metadata": {},
   "outputs": [
    {
     "name": "stdout",
     "output_type": "stream",
     "text": [
      "dropped 0 non finite samples, leaving 1024 samples\n"
     ]
    }
   ],
   "source": [
    "# TODO put into mdn\n",
    "ok = np.isfinite(sample_features).all(axis=0)\n",
    "sample_params = sample_params[:, ok]\n",
    "sample_features = sample_features[:, ok]\n",
    "print(f'dropped {(~ok).sum()} non finite samples, leaving {ok.sum()} samples')"
   ]
  },
  {
   "cell_type": "markdown",
   "metadata": {},
   "source": [
    "## Train regressor"
   ]
  },
  {
   "cell_type": "code",
   "execution_count": 9,
   "metadata": {},
   "outputs": [
    {
     "name": "stderr",
     "output_type": "stream",
     "text": [
      "/home/duke/env/tvbl/lib/python3.11/site-packages/autograd/numpy/numpy_vjps.py:175: RuntimeWarning: overflow encountered in square\n",
      "  defvjp(anp.tanh, lambda ans, x: lambda g: g / anp.cosh(x) ** 2)\n"
     ]
    },
    {
     "name": "stdout",
     "output_type": "stream",
     "text": [
      "Starting training...\n",
      "Iteration     1/800, Loss: 17.6696\n",
      "Iteration   100/800, Loss: 2.6281\n",
      "Iteration   200/800, Loss: 0.5642\n"
     ]
    },
    {
     "name": "stderr",
     "output_type": "stream",
     "text": [
      "/home/duke/env/tvbl/lib/python3.11/site-packages/autograd/tracer.py:54: RuntimeWarning: overflow encountered in cosh\n",
      "  return f_raw(*args, **kwargs)\n"
     ]
    },
    {
     "name": "stdout",
     "output_type": "stream",
     "text": [
      "Iteration   300/800, Loss: -0.2533\n",
      "Iteration   400/800, Loss: -0.6561\n",
      "Iteration   500/800, Loss: -0.9636\n",
      "Iteration   600/800, Loss: -1.2028\n",
      "Iteration   700/800, Loss: -1.3997\n",
      "Iteration   800/800, Loss: -1.4914\n",
      "Training finished.\n"
     ]
    }
   ],
   "source": [
    "mdn_w, _, mdn_f = mdn.train_mdn(\n",
    "    sample_params.T,\n",
    "    sample_features.T,\n",
    "    K=3, H=(128, 32),\n",
    "    niter=800,\n",
    ")"
   ]
  },
  {
   "cell_type": "markdown",
   "metadata": {},
   "source": [
    "## Apply regressor\n",
    "\n",
    "Once training is done, inference (conditioning joint distribution on data) is *amortized* meaning it is quite fast (enabling even real time applications)"
   ]
  },
  {
   "cell_type": "code",
   "execution_count": 10,
   "metadata": {},
   "outputs": [
    {
     "name": "stdout",
     "output_type": "stream",
     "text": [
      "The slowest run took 6.55 times longer than the fastest. This could mean that an intermediate result is being cached.\n",
      "545 μs ± 560 μs per loop (mean ± std. dev. of 5 runs, 50 loops each)\n"
     ]
    }
   ],
   "source": [
    "%timeit -n50 -r5 mdn.sample(mdn_w, mdn_f, choices['features'][:,0], 200)\n",
    "post_params = mdn.sample(mdn_w, mdn_f, choices['features'][:,0], 200)"
   ]
  },
  {
   "cell_type": "markdown",
   "metadata": {},
   "source": [
    "## Evaluate\n",
    "\n",
    "In this simple case, we just look at the posteriors along with the true values"
   ]
  },
  {
   "cell_type": "code",
   "execution_count": 11,
   "metadata": {},
   "outputs": [
    {
     "data": {
      "image/png": "[encoded data removed]",
      "text/plain": [
       "<Figure size 800x200 with 4 Axes>"
      ]
     },
     "metadata": {},
     "output_type": "display_data"
    }
   ],
   "source": [
    "figure(figsize=(8,2))\n",
    "for i in range(4):\n",
    "    subplot(1, 4, i+1)\n",
    "    axvline(p_lo[i], color='b')\n",
    "    axvline(p_hi[i], color='b')\n",
    "    hist(post_params[:,i], 20)\n",
    "    axvline(choices['params'][i], color='r')"
   ]
  },
  {
   "cell_type": "markdown",
   "metadata": {},
   "source": [
    "we can see that the true value (in red) lies in the posterior distribution which has shrunk from the prior (blue lines)."
   ]
  }
 ],
 "metadata": {
  "kernelspec": {
   "display_name": "Python 3 (ipykernel)",
   "language": "python",
   "name": "python3"
  },
  "language_info": {
   "codemirror_mode": {
    "name": "ipython",
    "version": 3
   },
   "file_extension": ".py",
   "mimetype": "text/x-python",
   "name": "python",
   "nbconvert_exporter": "python",
   "pygments_lexer": "ipython3",
   "version": "3.11.2"
  }
 },
 "nbformat": 4,
 "nbformat_minor": 4
}
